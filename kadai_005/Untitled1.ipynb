{
  "nbformat": 4,
  "nbformat_minor": 0,
  "metadata": {
    "colab": {
      "provenance": []
    },
    "kernelspec": {
      "name": "python3",
      "display_name": "Python 3"
    },
    "language_info": {
      "name": "python"
    }
  },
  "cells": [
    {
      "cell_type": "code",
      "execution_count": 1,
      "metadata": {
        "colab": {
          "base_uri": "https://localhost:8080/"
        },
        "id": "5K66q72CUERX",
        "outputId": "b96f6bb4-3211-4b8d-d4ec-5d21e3fa6121"
      },
      "outputs": [
        {
          "output_type": "stream",
          "name": "stdout",
          "text": [
            "75.0cm²\n"
          ]
        }
      ],
      "source": [
        "top = 10\n",
        "bottom = 20\n",
        "height = 5\n",
        "risult = (top + bottom) * height / 2\n",
        "\n",
        "print(f\"{risult}cm²\")"
      ]
    }
  ]
}