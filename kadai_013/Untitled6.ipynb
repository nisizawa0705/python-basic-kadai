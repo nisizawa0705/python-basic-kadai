{
  "nbformat": 4,
  "nbformat_minor": 0,
  "metadata": {
    "colab": {
      "provenance": []
    },
    "kernelspec": {
      "name": "python3",
      "display_name": "Python 3"
    },
    "language_info": {
      "name": "python"
    }
  },
  "cells": [
    {
      "cell_type": "code",
      "execution_count": 5,
      "metadata": {
        "colab": {
          "base_uri": "https://localhost:8080/"
        },
        "id": "AbMSHWr5bcqF",
        "outputId": "9af2c24b-bf44-49ed-ee6f-4d1e79c28e98"
      },
      "outputs": [
        {
          "output_type": "stream",
          "name": "stdout",
          "text": [
            "3630.0\n"
          ]
        }
      ],
      "source": [
        "def get_calcResult(amount,tax):\n",
        "    calcResult = amount + amount * (tax * 0.01)\n",
        "    return calcResult\n",
        "\n",
        "print(get_calcResult(3300,10))"
      ]
    }
  ]
}