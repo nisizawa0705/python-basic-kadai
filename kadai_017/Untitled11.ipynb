{
  "nbformat": 4,
  "nbformat_minor": 0,
  "metadata": {
    "colab": {
      "provenance": []
    },
    "kernelspec": {
      "name": "python3",
      "display_name": "Python 3"
    },
    "language_info": {
      "name": "python"
    }
  },
  "cells": [
    {
      "cell_type": "code",
      "execution_count": 4,
      "metadata": {
        "colab": {
          "base_uri": "https://localhost:8080/"
        },
        "id": "SFhcXdlNsZti",
        "outputId": "8c23ff12-3ef8-4ee3-bfd8-606b9a8435e8"
      },
      "outputs": [
        {
          "output_type": "stream",
          "name": "stdout",
          "text": [
            "太郎大人です\n",
            "次郎は大人ではありません\n",
            "三郎大人です\n",
            "花子は大人ではありません\n"
          ]
        }
      ],
      "source": [
        "#名前(name)と年齢(age)の属性を持つHumanクラスを作成してください。\n",
        "class Human:\n",
        "  def __init__(self,name,age):\n",
        "    self.name = name\n",
        "    self.age = age\n",
        "\n",
        "#Humanクラスには、以下の条件で標準出力(print)するcheck_adultメソッドを追加してください。\n",
        "#・ageが20以上の場合に大人であること\n",
        "#・そうでない場合に大人でないこと\n",
        "  def check_adult(self):\n",
        "    if self.age >= 20:\n",
        "      print(f\"{self.name}大人です\")\n",
        "    else:\n",
        "      print(f\"{self.name}は大人ではありません\")\n",
        "\n",
        "#「Humanクラスのインスタンスを複数生成してリストに追加し、」\n",
        "humans = [\n",
        "    Human(\"太郎\", 25),\n",
        "    Human(\"次郎\", 17),\n",
        "    Human(\"三郎\", 20),\n",
        "    Human(\"花子\", 18)\n",
        "]\n",
        "\n",
        "#「リストの要素数分だけcheck_adultメソッドを呼び出してください。」\n",
        "for human in humans:\n",
        "    human.check_adult()"
      ]
    }
  ]
}